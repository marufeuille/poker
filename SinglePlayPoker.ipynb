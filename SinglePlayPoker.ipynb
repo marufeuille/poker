{
 "cells": [
  {
   "cell_type": "markdown",
   "metadata": {
    "toc-hr-collapsed": false
   },
   "source": [
    "# Single Play Poker Enviroment\n",
    "\n",
    "This Notebooks contains enviroment which plays Poker with single person."
   ]
  },
  {
   "cell_type": "markdown",
   "metadata": {},
   "source": [
    "## install require packages"
   ]
  },
  {
   "cell_type": "code",
   "execution_count": 1,
   "metadata": {},
   "outputs": [
    {
     "name": "stdout",
     "output_type": "stream",
     "text": [
      "Requirement already satisfied: gym in /usr/local/lib/python3.5/dist-packages (0.12.4)\n",
      "Requirement already satisfied: six in /usr/local/lib/python3.5/dist-packages (from gym) (1.12.0)\n",
      "Requirement already satisfied: scipy in /usr/local/lib/python3.5/dist-packages (from gym) (1.2.1)\n",
      "Requirement already satisfied: pyglet>=1.2.0 in /usr/local/lib/python3.5/dist-packages (from gym) (1.3.2)\n",
      "Requirement already satisfied: numpy>=1.10.4 in /usr/local/lib/python3.5/dist-packages (from gym) (1.14.5)\n",
      "Requirement already satisfied: future in /usr/local/lib/python3.5/dist-packages (from pyglet>=1.2.0->gym) (0.17.1)\n",
      "\u001b[33mYou are using pip version 19.0.3, however version 19.1.1 is available.\n",
      "You should consider upgrading via the 'pip install --upgrade pip' command.\u001b[0m\n"
     ]
    }
   ],
   "source": [
    "!pip install gym"
   ]
  },
  {
   "cell_type": "markdown",
   "metadata": {},
   "source": [
    "## Class of Enviroment"
   ]
  },
  {
   "cell_type": "markdown",
   "metadata": {},
   "source": [
    "### imports"
   ]
  },
  {
   "cell_type": "code",
   "execution_count": 2,
   "metadata": {},
   "outputs": [],
   "source": [
    "from enum import Enum\n",
    "import random\n",
    "import gym\n",
    "import numpy as np\n",
    "from io import StringIO\n",
    "import sys\n",
    "from typing import Tuple"
   ]
  },
  {
   "cell_type": "markdown",
   "metadata": {},
   "source": [
    "### Suit Class(Enum)\n",
    "\n",
    "* this class defines Card's suit. Clover or Diamond or Heart or Spade."
   ]
  },
  {
   "cell_type": "code",
   "execution_count": 3,
   "metadata": {},
   "outputs": [],
   "source": [
    "class Suit(Enum):\n",
    "    Clover    = 0\n",
    "    Diamond   = 1\n",
    "    Heart     = 2\n",
    "    Spade     = 3"
   ]
  },
  {
   "cell_type": "markdown",
   "metadata": {},
   "source": [
    "### Helper variable that converts Suit -> String or number -> String"
   ]
  },
  {
   "cell_type": "code",
   "execution_count": 4,
   "metadata": {},
   "outputs": [],
   "source": [
    "suit_to_str = {\n",
    "    Suit.Heart:   \"Heart\",\n",
    "    Suit.Spade:   \"Spade\",\n",
    "    Suit.Clover:  \"Clover\",\n",
    "    Suit.Diamond: \"Diamond\"\n",
    "}\n",
    "\n",
    "num_to_string = [0, \"Ace\", \"Two\", \"Three\", \"Four\", \"Five\", \"Six\", \"Seven\", \"Eight\", \"Nine\", \"Ten\", \"Jack\", \"Queen\", \"King\"]"
   ]
  },
  {
   "cell_type": "markdown",
   "metadata": {},
   "source": [
    "### Card class\n",
    "\n",
    "* this class implements one card"
   ]
  },
  {
   "cell_type": "code",
   "execution_count": 5,
   "metadata": {},
   "outputs": [],
   "source": [
    "class Card:\n",
    "    def __init__(self, suit: Suit, num: int):\n",
    "        self.suit = suit  # type: Suit\n",
    "        self.num  = num   # type: int\n",
    "    \n",
    "    def __repr__(self) -> str:\n",
    "        return \"{} of {}\".format(num_to_string[self.num], suit_to_str[self.suit])\n",
    "    \n",
    "    def __lt__(self, other:'Card') -> bool:\n",
    "        if self.num == other.num:\n",
    "            return self.suit.value < other.suit.value\n",
    "        else:\n",
    "            return self.num < other.num\n",
    "    \n",
    "    def __le__(self, other:'Card') -> bool:\n",
    "        if self.num == other.num:\n",
    "            return self.suit.value <= other.suit.value\n",
    "        else:\n",
    "            return self.num <= other.num \n",
    "        \n",
    "    def __gt__(self, other:'Card') -> bool:\n",
    "        if self.num == other.num:\n",
    "            return self.suit.value > other.suit.value\n",
    "        else:\n",
    "            return self.num > other.num\n",
    "        \n",
    "    def __ge__(self, other:'Card') -> bool:\n",
    "        if self.num == other.num:\n",
    "            return self.suit.value >= other.suit.value\n",
    "        else:\n",
    "            return self.num >= other.num\n",
    "    \n",
    "    def __hash__(self) -> str:\n",
    "        return hash((self.suit.value, self.num))\n",
    "    \n",
    "    def clone(self) -> 'Card':\n",
    "        return Card(self.suit, self.num)\n",
    "    \n",
    "    def get_serial(self) -> int:\n",
    "        return self.suit.value * 13 + self.num"
   ]
  },
  {
   "cell_type": "markdown",
   "metadata": {},
   "source": [
    "### Player class\n",
    "\n",
    "* this class implements player status."
   ]
  },
  {
   "cell_type": "code",
   "execution_count": 6,
   "metadata": {},
   "outputs": [],
   "source": [
    "class Player:\n",
    "    def __init__(self, initial_coin:int=100, bid_amount:int=1):\n",
    "        self.initial_coin = initial_coin # type: int\n",
    "        self.hand         = [] # type: List[Card]\n",
    "        self.bid_amount   = bid_amount\n",
    "        \n",
    "    def reset(self) -> None:\n",
    "        self.hand.clear()\n",
    "\n",
    "    def draw_card(self, card:Card) -> None:\n",
    "        self.hand.append(card.clone())\n",
    "        self.hand.sort()\n",
    "    \n",
    "    def bid(self) -> int:\n",
    "        return self.bid_amount"
   ]
  },
  {
   "cell_type": "markdown",
   "metadata": {},
   "source": [
    "### Poker Action Class\n",
    "\n",
    "- this class(Enum) shows player's actions."
   ]
  },
  {
   "cell_type": "code",
   "execution_count": 7,
   "metadata": {},
   "outputs": [],
   "source": [
    "class SinglePlayPokerActions(Enum):\n",
    "    DRAW   = 0\n",
    "    DOUBLE = 1"
   ]
  },
  {
   "cell_type": "markdown",
   "metadata": {},
   "source": [
    "### UserAction class\n",
    "\n",
    "* this class implements User took action"
   ]
  },
  {
   "cell_type": "code",
   "execution_count": 8,
   "metadata": {},
   "outputs": [],
   "source": [
    "class UserAction:\n",
    "    def __init__(self, action:SinglePlayPokerActions, drop_cards:[int]=None):\n",
    "        self.action     = action # type: SinglePlayPokerActions\n",
    "        self.drop_cards = drop_cards # type: [int]"
   ]
  },
  {
   "cell_type": "markdown",
   "metadata": {},
   "source": [
    "### SinglePlayPorkerStates class"
   ]
  },
  {
   "cell_type": "code",
   "execution_count": 9,
   "metadata": {},
   "outputs": [],
   "source": [
    "class SinglePlayPokerStates(Enum):\n",
    "    PLAYABLE     = 0\n",
    "    DONE_EPISODE = 1"
   ]
  },
  {
   "cell_type": "markdown",
   "metadata": {},
   "source": [
    "### Poker class\n",
    "\n",
    "* this class shows poker and helper method to judge poker for your hand."
   ]
  },
  {
   "cell_type": "code",
   "execution_count": 10,
   "metadata": {},
   "outputs": [],
   "source": [
    "class Poker(Enum):\n",
    "    RoyalStraightFlash = 0\n",
    "    StraightFlash      = 1\n",
    "    FourCard           = 2\n",
    "    FullHouse          = 3\n",
    "    Flash              = 4\n",
    "    Straight           = 5\n",
    "    ThreeCard          = 6\n",
    "    TwoPair            = 7\n",
    "    OnePair            = 8\n",
    "    Nothing            = 9\n",
    "\n",
    "    @classmethod\n",
    "    def isSameNumber(cls, cards:[Card]) -> bool:\n",
    "        std = cards[0].num\n",
    "        for card in cards[1:]:\n",
    "            if not std == card.num:\n",
    "                return False\n",
    "        return True\n",
    "    \n",
    "    @classmethod\n",
    "    def isSameSuit(cls, cards:[Card]) -> bool:\n",
    "        std = cards[0].suit\n",
    "        for card in cards[1:]:\n",
    "            if not std == card.suit:\n",
    "                return False\n",
    "        return True\n",
    "    \n",
    "    @classmethod\n",
    "    def isSequential(cls, cards:[Card]) -> bool:\n",
    "        prev = cards[0].num\n",
    "        for i in range(1,5):\n",
    "            if not prev + 1 == cards[i].num:\n",
    "                return False\n",
    "            prev = cards[i].num\n",
    "        return True \n",
    "    \n",
    "    @classmethod\n",
    "    def isRoyalStraightFlash(cls, hand:[Card]) -> 'Poker':\n",
    "        if hand[0].num == 1 and hand[1].num == 10 and hand[2].num == 11 and hand[3].num == 12 and hand[4].num == 13 \\\n",
    "            and len(set([hand[0].suit, hand[1].suit, hand[2].suit, hand[3].suit, hand[4].suit])) == 1:\n",
    "            return cls.RoyalStraightFlash\n",
    "        return cls.Nothing\n",
    "    \n",
    "    @classmethod\n",
    "    def isStraightFlash(cls, hand:[Card]) -> 'Poker':\n",
    "        if cls.isSequential(hand) \\\n",
    "            and cls.isSameSuit(hand):\n",
    "            return cls.StraightFlash\n",
    "        return cls.Nothing\n",
    "\n",
    "    @classmethod\n",
    "    def isFourCard(cls, hand:[Card]) -> 'Poker':\n",
    "        for i in range(0,2):\n",
    "            if cls.isSameNumber(hand[i:i+4]):\n",
    "                return Poker.FourCard\n",
    "        return cls.Nothing\n",
    "\n",
    "    @classmethod\n",
    "    def isFullHouse(cls, hand:[Card]) -> 'Poker':\n",
    "        for i in range(2,4):\n",
    "            if cls.isSameNumber(hand[0:i]) and cls.isSameNumber(hand[i:]):\n",
    "                return Poker.FullHouse\n",
    "        return cls.Nothing\n",
    "    \n",
    "    @classmethod\n",
    "    def isFlash(cls, hand:[Card]) -> 'Poker':\n",
    "        if cls.isSameSuit(hand):\n",
    "            return Poker.Flash\n",
    "        return cls.Nothing\n",
    "    \n",
    "    @classmethod\n",
    "    def isStraight(cls, hand:[Card]) -> 'Poker':\n",
    "        return cls.Straight if cls.isSequential(hand) else cls.Nothing\n",
    "    \n",
    "    @classmethod\n",
    "    def isThreeCard(cls, hand:[Card]) -> 'Poker':\n",
    "        for i in range(3):\n",
    "            if cls.isSameNumber(hand[i:i+3]):\n",
    "                return cls.ThreeCard\n",
    "        return cls.Nothing\n",
    "    \n",
    "    @classmethod\n",
    "    def isNPair(cls, hand:[Card]) -> 'Poker':\n",
    "        count = 0\n",
    "        for i in range(4):\n",
    "            if cls.isSameNumber(hand[i:i+2]):\n",
    "                count += 1\n",
    "        return [cls.Nothing, cls.OnePair, cls.TwoPair][count]"
   ]
  },
  {
   "cell_type": "markdown",
   "metadata": {},
   "source": [
    "### UserState class\n",
    "\n",
    "* this class implements UserState, such as amount of bid in this game and current hand."
   ]
  },
  {
   "cell_type": "code",
   "execution_count": 11,
   "metadata": {},
   "outputs": [],
   "source": [
    "class UserState:\n",
    "    def __init__(self, current_bid:int, current_hand:int):\n",
    "        self.current_bid = current_bid\n",
    "        self.current_hand = []\n",
    "        for card in current_hand:\n",
    "            self.current_hand.append(card.clone())\n",
    "    \n",
    "    def __hash__(self) -> str:\n",
    "        return hash((self.current_bid, self.current_hand[0], self.current_hand[1], self.current_hand[2], self.current_hand[3], self.current_hand[4]))\n",
    "    \n",
    "    def __repr__(self) -> str:\n",
    "        return (self.current_bid, self.current_hand).__repr__()"
   ]
  },
  {
   "cell_type": "markdown",
   "metadata": {},
   "source": [
    "### SimplePokerEnv\n",
    "\n",
    "* You hardly reached this class.\n",
    "* this class shows Environment OpenAI gym."
   ]
  },
  {
   "cell_type": "code",
   "execution_count": 12,
   "metadata": {},
   "outputs": [],
   "source": [
    "class SimplePokerEnv(gym.Env):\n",
    "    \n",
    "    reward_rate_map = {\n",
    "        Poker.RoyalStraightFlash: 100,\n",
    "        Poker.StraightFlash:       25,\n",
    "        Poker.FourCard:            15,\n",
    "        Poker.FullHouse:            7,\n",
    "        Poker.Flash:                5,\n",
    "        Poker.Straight:             4,\n",
    "        Poker.ThreeCard:            3,\n",
    "        Poker.TwoPair:              2,\n",
    "        Poker.OnePair:              1,\n",
    "        Poker.Nothing:             -1\n",
    "    }\n",
    "\n",
    "    def __init__(self, max_draw:int=1, initial_coin:int=100):\n",
    "        super().__init__()\n",
    "        self.action_space = gym.spaces.Discrete(31)\n",
    "        self.decks        = [] # type: List[Card]\n",
    "        self.max_draw     = max_draw # type: int\n",
    "        self.initial_coin = initial_coin # type: int\n",
    "        self.player       = Player(initial_coin=self.initial_coin) # type: Player\n",
    "        self.states       = [SinglePlayPokerStates.PLAYABLE,\n",
    "                             SinglePlayPokerStates.DONE_EPISODE] # type: List[SinglePlayPokerStates]\n",
    "        self.reward_range = [  \n",
    "            SimplePokerEnv.reward_rate_map[Poker.Nothing] * self.max_draw,\n",
    "            SimplePokerEnv.reward_rate_map[Poker.RoyalStraightFlash] * self.max_draw\n",
    "        ]\n",
    "        self.actions = [SinglePlayPokerActions.DRAW, SinglePlayPokerActions.DOUBLE]\n",
    "        self._reset()\n",
    "\n",
    "    def _reset(self) -> UserState:\n",
    "        self.draw_count   = 0 # type: int\n",
    "        self.state        = self.states[0] # type: SinglePlayPokerStates\n",
    "        self.player_coin  = self.initial_coin # type: int\n",
    "        self.card_pointer = 0\n",
    "        self.decks.clear()\n",
    "        for suit in (Suit.Heart, Suit.Spade, Suit.Clover, Suit.Diamond):\n",
    "            for i in range(1, 14):\n",
    "                self.decks.append(Card(suit, i))\n",
    "        random.shuffle(self.decks)\n",
    "        \n",
    "        self.player.reset()\n",
    "        for i in range(5):\n",
    "            self.player.draw_card(self.decks[i])\n",
    "        #self.player.hand.sort()\n",
    "        self.card_pointer = 5\n",
    "        self.bids = self.player.bid()\n",
    "        return self._observe()\n",
    "    \n",
    "    def _observe(self) -> UserState:\n",
    "        clone_hand = []\n",
    "        for card in self.player.hand:\n",
    "            clone_hand.append(card.clone())\n",
    "        return UserState(self.bids, clone_hand)\n",
    "    \n",
    "    def _step(self, action: UserAction) -> Tuple[UserState, int, bool, dict]:\n",
    "        reward = 0 # type: int\n",
    "        observation = None # type: UserState\n",
    "        done = False #type: bool\n",
    "        info = {} #type: dict\n",
    "        if self.state == SinglePlayPokerStates.PLAYABLE:\n",
    "            if action.action == SinglePlayPokerActions.DOUBLE:\n",
    "                bid = self.player.bid()\n",
    "                self.bids += bid\n",
    "                if self.draw_count >= self.max_draw:\n",
    "                    #print(\"You cannot draw anymore(max drawable count is {})\".format(self.max_draw))\n",
    "                    self.state = SinglePlayPokerStates.DONE_EPISODE\n",
    "            if not self.state == SinglePlayPokerStates.DONE_EPISODE:\n",
    "                n = action.drop_cards.count(1)\n",
    "                if n == 0:\n",
    "                    self.state = SinglePlayPokerStates.DONE_EPISODE\n",
    "                else:\n",
    "                    for i in reversed(range(5)):\n",
    "                        if action.drop_cards[i] == 1:\n",
    "                            self.player.hand.remove(self.player.hand[i])\n",
    "                    for i in range(n):\n",
    "                        self.player.draw_card(self.decks[self.card_pointer+i])\n",
    "                    self.card_pointer += n\n",
    "\n",
    "                    self.draw_count += 1\n",
    "            # print(\"You draw {} times.\".format(self.draw_count))\n",
    "            if self.draw_count >= self.max_draw:\n",
    "                #print(\"You cannot draw anymore(max drawable count is {})\".format(self.max_draw))\n",
    "                self.state = SinglePlayPokerStates.DONE_EPISODE\n",
    "\n",
    "                    \n",
    "        if self.state == SinglePlayPokerStates.DONE_EPISODE:\n",
    "            poker, reward = self._get_reward()\n",
    "            done = True\n",
    "            info[\"poker\"] = poker\n",
    "        observation = self._observe()\n",
    "        return observation, reward, done, info\n",
    "\n",
    "    def _get_reward(self) -> Tuple[Poker, int]:\n",
    "        poker = Poker.Nothing\n",
    "        #self.player.hand.sort()\n",
    "\n",
    "        for judgement in (Poker.isRoyalStraightFlash, Poker.isStraightFlash, Poker.isFourCard, Poker.isFullHouse, Poker.isFlash, Poker.isStraight, Poker.isThreeCard, Poker.isNPair):\n",
    "            judge = judgement(self.player.hand)\n",
    "            if not judge == Poker.Nothing:\n",
    "                poker = judge\n",
    "                break\n",
    "\n",
    "        return poker, self.bids * SimplePokerEnv.reward_rate_map[poker]\n",
    "\n",
    "    def _close(self):\n",
    "        pass\n",
    "\n",
    "    def _seed(self, seed=None):\n",
    "        pass\n",
    "    \n",
    "    def _render(self, mode='human', close=False):\n",
    "        outfile = StringIO() if mode == 'ansi' else sys.stdout\n",
    "        outfile.write(self._observe() + '\\n')\n",
    "        return outfile"
   ]
  },
  {
   "cell_type": "markdown",
   "metadata": {},
   "source": [
    "## Test code for each poker judgement \n",
    "\n",
    "- Reference: [遊びかた：ポーカー](https://www.nintendo.co.jp/others/playing_cards/howtoplay/poker/index.html)"
   ]
  },
  {
   "cell_type": "markdown",
   "metadata": {},
   "source": [
    "### RoyalStraightFlash"
   ]
  },
  {
   "cell_type": "code",
   "execution_count": 13,
   "metadata": {},
   "outputs": [
    {
     "name": "stdout",
     "output_type": "stream",
     "text": [
      "Poker.RoyalStraightFlash\n",
      "Poker.Nothing\n"
     ]
    }
   ],
   "source": [
    "rsf = [Card(Suit.Spade,1), Card(Suit.Spade,10), Card(Suit.Spade,11), Card(Suit.Spade,12), Card(Suit.Spade,13)]\n",
    "not_rsf = [Card(Suit.Spade,1), Card(Suit.Heart,10), Card(Suit.Spade,11), Card(Suit.Spade,12), Card(Suit.Spade,13)]\n",
    "print(Poker.isRoyalStraightFlash(rsf))\n",
    "print(Poker.isRoyalStraightFlash(not_rsf))"
   ]
  },
  {
   "cell_type": "markdown",
   "metadata": {},
   "source": [
    "### StraightFlash"
   ]
  },
  {
   "cell_type": "code",
   "execution_count": 14,
   "metadata": {},
   "outputs": [
    {
     "name": "stdout",
     "output_type": "stream",
     "text": [
      "Poker.StraightFlash\n",
      "Poker.Nothing\n"
     ]
    }
   ],
   "source": [
    "sf = [Card(Suit.Spade,1), Card(Suit.Spade,2), Card(Suit.Spade,3), Card(Suit.Spade,4), Card(Suit.Spade,5)]\n",
    "not_sf = [Card(Suit.Spade,1), Card(Suit.Clover,2), Card(Suit.Spade,3), Card(Suit.Spade,4), Card(Suit.Spade,5)]\n",
    "print(Poker.isStraightFlash(sf))\n",
    "print(Poker.isStraightFlash(not_sf))"
   ]
  },
  {
   "cell_type": "markdown",
   "metadata": {},
   "source": [
    "### FourCard"
   ]
  },
  {
   "cell_type": "code",
   "execution_count": 15,
   "metadata": {},
   "outputs": [
    {
     "name": "stdout",
     "output_type": "stream",
     "text": [
      "Poker.FourCard\n",
      "Poker.Nothing\n"
     ]
    }
   ],
   "source": [
    "fc = [Card(Suit.Spade,1), Card(Suit.Heart,1), Card(Suit.Clover,1), Card(Suit.Diamond,1), Card(Suit.Spade,5)]\n",
    "not_fc = [Card(Suit.Spade,1), Card(Suit.Clover,2), Card(Suit.Spade,3), Card(Suit.Spade,4), Card(Suit.Spade,5)]\n",
    "print(Poker.isFourCard(fc))\n",
    "print(Poker.isFourCard(not_fc))"
   ]
  },
  {
   "cell_type": "markdown",
   "metadata": {},
   "source": [
    "### FullHouse"
   ]
  },
  {
   "cell_type": "code",
   "execution_count": 16,
   "metadata": {},
   "outputs": [
    {
     "name": "stdout",
     "output_type": "stream",
     "text": [
      "Poker.FullHouse\n",
      "Poker.Nothing\n"
     ]
    }
   ],
   "source": [
    "fh = [Card(Suit.Spade,1), Card(Suit.Heart,1), Card(Suit.Clover,1), Card(Suit.Diamond,3), Card(Suit.Spade,3)]\n",
    "not_fh = [Card(Suit.Spade,1), Card(Suit.Clover,1), Card(Suit.Spade,1), Card(Suit.Spade,4), Card(Suit.Spade,5)]\n",
    "print(Poker.isFullHouse(fh))\n",
    "print(Poker.isFullHouse(not_fh))"
   ]
  },
  {
   "cell_type": "markdown",
   "metadata": {},
   "source": [
    "### Flash"
   ]
  },
  {
   "cell_type": "code",
   "execution_count": 17,
   "metadata": {},
   "outputs": [
    {
     "name": "stdout",
     "output_type": "stream",
     "text": [
      "Poker.Flash\n",
      "Poker.Nothing\n"
     ]
    }
   ],
   "source": [
    "fl = [Card(Suit.Spade,1), Card(Suit.Spade,3), Card(Suit.Spade,8), Card(Suit.Spade,10), Card(Suit.Spade,13)]\n",
    "not_fl = [Card(Suit.Spade,1), Card(Suit.Heart,1), Card(Suit.Clover,1), Card(Suit.Diamond,1), Card(Suit.Spade,5)]\n",
    "print(Poker.isFlash(fl))\n",
    "print(Poker.isFlash(not_fl)) "
   ]
  },
  {
   "cell_type": "markdown",
   "metadata": {},
   "source": [
    "### Straight"
   ]
  },
  {
   "cell_type": "code",
   "execution_count": 18,
   "metadata": {},
   "outputs": [
    {
     "name": "stdout",
     "output_type": "stream",
     "text": [
      "Poker.Straight\n",
      "Poker.Nothing\n"
     ]
    }
   ],
   "source": [
    "st = [Card(Suit.Spade,1), Card(Suit.Clover,2), Card(Suit.Spade,3), Card(Suit.Spade,4), Card(Suit.Spade,5)]\n",
    "not_st = [Card(Suit.Spade,1), Card(Suit.Heart,1), Card(Suit.Clover,1), Card(Suit.Diamond,1), Card(Suit.Spade,5)]\n",
    "print(Poker.isStraight(st))\n",
    "print(Poker.isStraight(not_st)) "
   ]
  },
  {
   "cell_type": "markdown",
   "metadata": {},
   "source": [
    "### ThreeCard"
   ]
  },
  {
   "cell_type": "code",
   "execution_count": 19,
   "metadata": {},
   "outputs": [
    {
     "name": "stdout",
     "output_type": "stream",
     "text": [
      "Poker.ThreeCard\n",
      "Poker.Nothing\n"
     ]
    }
   ],
   "source": [
    "tc = [Card(Suit.Spade,1), Card(Suit.Heart,1), Card(Suit.Clover,1), Card(Suit.Diamond,5), Card(Suit.Spade,12)]\n",
    "not_tc = [Card(Suit.Spade,1), Card(Suit.Clover,2), Card(Suit.Spade,3), Card(Suit.Spade,4), Card(Suit.Spade,5)]\n",
    "print(Poker.isThreeCard(tc))\n",
    "print(Poker.isThreeCard(not_tc))"
   ]
  },
  {
   "cell_type": "markdown",
   "metadata": {},
   "source": [
    "### Two or One Pair"
   ]
  },
  {
   "cell_type": "code",
   "execution_count": 20,
   "metadata": {},
   "outputs": [
    {
     "name": "stdout",
     "output_type": "stream",
     "text": [
      "Poker.TwoPair\n",
      "Poker.OnePair\n",
      "Poker.Nothing\n"
     ]
    }
   ],
   "source": [
    "tp = [Card(Suit.Spade,1), Card(Suit.Heart,1), Card(Suit.Clover,2), Card(Suit.Diamond,2), Card(Suit.Spade,12)]\n",
    "op = [Card(Suit.Spade,1), Card(Suit.Clover,1), Card(Suit.Spade,3), Card(Suit.Spade,4), Card(Suit.Spade,5)]\n",
    "np = [Card(Suit.Spade,1), Card(Suit.Clover,3), Card(Suit.Spade,5), Card(Suit.Spade,7), Card(Suit.Spade,9)]\n",
    "print(Poker.isNPair(tp))\n",
    "print(Poker.isNPair(op)) \n",
    "print(Poker.isNPair(np)) "
   ]
  },
  {
   "cell_type": "markdown",
   "metadata": {},
   "source": [
    "## Create Environment instance"
   ]
  },
  {
   "cell_type": "code",
   "execution_count": 21,
   "metadata": {},
   "outputs": [],
   "source": [
    "env = SimplePokerEnv()"
   ]
  },
  {
   "cell_type": "markdown",
   "metadata": {
    "toc-hr-collapsed": true
   },
   "source": [
    "## Solve with Random policy"
   ]
  },
  {
   "cell_type": "markdown",
   "metadata": {},
   "source": [
    "### Define choose action policy and choose drop card policy."
   ]
  },
  {
   "cell_type": "code",
   "execution_count": 22,
   "metadata": {},
   "outputs": [],
   "source": [
    "import random\n",
    "def choose_drop_card_nums():\n",
    "    n = random.randint(0,5)\n",
    "    choosen = [0,0,0,0,0]\n",
    "    for c in random.sample([0,1,2,3,4],n):\n",
    "        choosen[c] = 1\n",
    "    return choosen\n",
    "\n",
    "def choose_action():\n",
    "    actions = [SinglePlayPokerActions.DRAW, SinglePlayPokerActions.DOUBLE]\n",
    "    return random.choice(actions)"
   ]
  },
  {
   "cell_type": "markdown",
   "metadata": {},
   "source": [
    "### Let's try with Random policy"
   ]
  },
  {
   "cell_type": "code",
   "execution_count": 23,
   "metadata": {},
   "outputs": [],
   "source": [
    "n_times = 100\n",
    "env = SimplePokerEnv()\n",
    "rewards = []\n",
    "pokers = []\n",
    "results = []\n",
    "\n",
    "def judge(cards):\n",
    "    poker = Poker.Nothing\n",
    "    for judgement in (Poker.isRoyalStraightFlash, Poker.isStraightFlash, Poker.isFourCard, Poker.isFullHouse, Poker.isFlash, Poker.isStraight, Poker.isThreeCard, Poker.isNPair):\n",
    "        judge = judgement(cards)\n",
    "        if not judge == Poker.Nothing:\n",
    "            poker = judge\n",
    "            break\n",
    "    return poker\n",
    "\n",
    "for i in range(n_times):\n",
    "    env._reset()\n",
    "    done = False\n",
    "    reward = 0\n",
    "    info = None\n",
    "    while not done:\n",
    "        p_state = env._observe()\n",
    "        action = choose_action()\n",
    "        drop_cards = choose_drop_card_nums()\n",
    "        a = UserAction(action, drop_cards)\n",
    "        n_state, reward, done, info = env._step(a)\n",
    "        if done:\n",
    "            #print(\"*** {}th try is done***\".format(i+1))\n",
    "            #print(\"{}th try observation is: {}.\".format(i+1, observation))\n",
    "            #print(\"{}th try poker is: {}.\".format(i+1, info[\"poker\"]))\n",
    "            #print(\"{}th try reward is: {}.\".format(i+1, reward))\n",
    "            line = []\n",
    "            line.append(n_state.current_bid)\n",
    "            for c in p_state.current_hand:\n",
    "                line.append(c.get_serial())\n",
    "            \n",
    "            line.append(judge(p_state.current_hand).value)\n",
    "            line.append(action.value)\n",
    "            \n",
    "            for bit in drop_cards:\n",
    "                line.append(bit)\n",
    "                \n",
    "            for c in n_state.current_hand:\n",
    "                line.append(c.get_serial())\n",
    "                \n",
    "            line.append(info[\"poker\"].value)\n",
    "            line.append(reward)\n",
    "            \n",
    "            results.append(line)\n",
    "        #print(observation)\n",
    "        #print(done)\n",
    "    #rewards.append(reward)\n",
    "    #pokers.append(info[\"poker\"])\n",
    "#print(\"finally, you gain {} coins.\".format(sum(rewards)))"
   ]
  },
  {
   "cell_type": "code",
   "execution_count": 24,
   "metadata": {},
   "outputs": [],
   "source": [
    "import pandas as pd\n",
    "df = pd.DataFrame(results,columns=[\"amount_bid\", \"pre_card1\", \"pre_card2\", \"pre_card3\", \"pre_card4\", \"pre_card5\", \"current_poker\", \"action\", \"drop_card1\", \"drop_card2\", \"drop_card3\", \"drop_card4\", \"drop_card5\", \"result_card1\", \"result_card2\", \"result_card3\", \"result_card4\", \"result_card5\", \"result_poker\", \"reward\"])"
   ]
  },
  {
   "cell_type": "code",
   "execution_count": 25,
   "metadata": {},
   "outputs": [],
   "source": [
    "df.to_pickle('random-{}try.pickle'.format(n_times))"
   ]
  },
  {
   "cell_type": "code",
   "execution_count": 26,
   "metadata": {},
   "outputs": [
    {
     "data": {
      "text/html": [
       "<div>\n",
       "<style scoped>\n",
       "    .dataframe tbody tr th:only-of-type {\n",
       "        vertical-align: middle;\n",
       "    }\n",
       "\n",
       "    .dataframe tbody tr th {\n",
       "        vertical-align: top;\n",
       "    }\n",
       "\n",
       "    .dataframe thead th {\n",
       "        text-align: right;\n",
       "    }\n",
       "</style>\n",
       "<table border=\"1\" class=\"dataframe\">\n",
       "  <thead>\n",
       "    <tr style=\"text-align: right;\">\n",
       "      <th></th>\n",
       "      <th>amount_bid</th>\n",
       "      <th>pre_card1</th>\n",
       "      <th>pre_card2</th>\n",
       "      <th>pre_card3</th>\n",
       "      <th>pre_card4</th>\n",
       "      <th>pre_card5</th>\n",
       "      <th>current_poker</th>\n",
       "      <th>action</th>\n",
       "      <th>drop_card1</th>\n",
       "      <th>drop_card2</th>\n",
       "      <th>drop_card3</th>\n",
       "      <th>drop_card4</th>\n",
       "      <th>drop_card5</th>\n",
       "      <th>result_card1</th>\n",
       "      <th>result_card2</th>\n",
       "      <th>result_card3</th>\n",
       "      <th>result_card4</th>\n",
       "      <th>result_card5</th>\n",
       "      <th>result_poker</th>\n",
       "      <th>reward</th>\n",
       "    </tr>\n",
       "  </thead>\n",
       "  <tbody>\n",
       "    <tr>\n",
       "      <th>0</th>\n",
       "      <td>1</td>\n",
       "      <td>19</td>\n",
       "      <td>7</td>\n",
       "      <td>20</td>\n",
       "      <td>35</td>\n",
       "      <td>12</td>\n",
       "      <td>8</td>\n",
       "      <td>0</td>\n",
       "      <td>1</td>\n",
       "      <td>0</td>\n",
       "      <td>1</td>\n",
       "      <td>1</td>\n",
       "      <td>1</td>\n",
       "      <td>7</td>\n",
       "      <td>46</td>\n",
       "      <td>48</td>\n",
       "      <td>11</td>\n",
       "      <td>51</td>\n",
       "      <td>8</td>\n",
       "      <td>1</td>\n",
       "    </tr>\n",
       "    <tr>\n",
       "      <th>1</th>\n",
       "      <td>2</td>\n",
       "      <td>42</td>\n",
       "      <td>30</td>\n",
       "      <td>5</td>\n",
       "      <td>6</td>\n",
       "      <td>12</td>\n",
       "      <td>9</td>\n",
       "      <td>1</td>\n",
       "      <td>1</td>\n",
       "      <td>1</td>\n",
       "      <td>1</td>\n",
       "      <td>1</td>\n",
       "      <td>0</td>\n",
       "      <td>14</td>\n",
       "      <td>15</td>\n",
       "      <td>46</td>\n",
       "      <td>34</td>\n",
       "      <td>12</td>\n",
       "      <td>9</td>\n",
       "      <td>-2</td>\n",
       "    </tr>\n",
       "    <tr>\n",
       "      <th>2</th>\n",
       "      <td>2</td>\n",
       "      <td>28</td>\n",
       "      <td>30</td>\n",
       "      <td>46</td>\n",
       "      <td>9</td>\n",
       "      <td>26</td>\n",
       "      <td>9</td>\n",
       "      <td>1</td>\n",
       "      <td>0</td>\n",
       "      <td>1</td>\n",
       "      <td>1</td>\n",
       "      <td>0</td>\n",
       "      <td>1</td>\n",
       "      <td>28</td>\n",
       "      <td>3</td>\n",
       "      <td>31</td>\n",
       "      <td>9</td>\n",
       "      <td>10</td>\n",
       "      <td>9</td>\n",
       "      <td>-2</td>\n",
       "    </tr>\n",
       "    <tr>\n",
       "      <th>3</th>\n",
       "      <td>2</td>\n",
       "      <td>27</td>\n",
       "      <td>4</td>\n",
       "      <td>5</td>\n",
       "      <td>31</td>\n",
       "      <td>26</td>\n",
       "      <td>8</td>\n",
       "      <td>1</td>\n",
       "      <td>0</td>\n",
       "      <td>0</td>\n",
       "      <td>0</td>\n",
       "      <td>1</td>\n",
       "      <td>0</td>\n",
       "      <td>27</td>\n",
       "      <td>29</td>\n",
       "      <td>4</td>\n",
       "      <td>5</td>\n",
       "      <td>26</td>\n",
       "      <td>9</td>\n",
       "      <td>-2</td>\n",
       "    </tr>\n",
       "    <tr>\n",
       "      <th>4</th>\n",
       "      <td>2</td>\n",
       "      <td>17</td>\n",
       "      <td>18</td>\n",
       "      <td>23</td>\n",
       "      <td>49</td>\n",
       "      <td>11</td>\n",
       "      <td>8</td>\n",
       "      <td>1</td>\n",
       "      <td>1</td>\n",
       "      <td>1</td>\n",
       "      <td>1</td>\n",
       "      <td>1</td>\n",
       "      <td>1</td>\n",
       "      <td>41</td>\n",
       "      <td>16</td>\n",
       "      <td>21</td>\n",
       "      <td>34</td>\n",
       "      <td>51</td>\n",
       "      <td>8</td>\n",
       "      <td>2</td>\n",
       "    </tr>\n",
       "  </tbody>\n",
       "</table>\n",
       "</div>"
      ],
      "text/plain": [
       "   amount_bid  pre_card1  pre_card2  pre_card3  pre_card4  pre_card5  \\\n",
       "0           1         19          7         20         35         12   \n",
       "1           2         42         30          5          6         12   \n",
       "2           2         28         30         46          9         26   \n",
       "3           2         27          4          5         31         26   \n",
       "4           2         17         18         23         49         11   \n",
       "\n",
       "   current_poker  action  drop_card1  drop_card2  drop_card3  drop_card4  \\\n",
       "0              8       0           1           0           1           1   \n",
       "1              9       1           1           1           1           1   \n",
       "2              9       1           0           1           1           0   \n",
       "3              8       1           0           0           0           1   \n",
       "4              8       1           1           1           1           1   \n",
       "\n",
       "   drop_card5  result_card1  result_card2  result_card3  result_card4  \\\n",
       "0           1             7            46            48            11   \n",
       "1           0            14            15            46            34   \n",
       "2           1            28             3            31             9   \n",
       "3           0            27            29             4             5   \n",
       "4           1            41            16            21            34   \n",
       "\n",
       "   result_card5  result_poker  reward  \n",
       "0            51             8       1  \n",
       "1            12             9      -2  \n",
       "2            10             9      -2  \n",
       "3            26             9      -2  \n",
       "4            51             8       2  "
      ]
     },
     "execution_count": 26,
     "metadata": {},
     "output_type": "execute_result"
    }
   ],
   "source": [
    "df.head()"
   ]
  },
  {
   "cell_type": "code",
   "execution_count": null,
   "metadata": {},
   "outputs": [],
   "source": []
  }
 ],
 "metadata": {
  "kernelspec": {
   "display_name": "Python 3",
   "language": "python",
   "name": "python3"
  },
  "language_info": {
   "codemirror_mode": {
    "name": "ipython",
    "version": 3
   },
   "file_extension": ".py",
   "mimetype": "text/x-python",
   "name": "python",
   "nbconvert_exporter": "python",
   "pygments_lexer": "ipython3",
   "version": "3.5.2"
  },
  "toc-autonumbering": true,
  "toc-showmarkdowntxt": true
 },
 "nbformat": 4,
 "nbformat_minor": 2
}
